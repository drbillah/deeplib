{
 "cells": [
  {
   "cell_type": "code",
   "execution_count": 58,
   "metadata": {},
   "outputs": [],
   "source": [
    "import os\n",
    "import random\n",
    "import numpy as np\n",
    "from glob import glob"
   ]
  },
  {
   "cell_type": "code",
   "execution_count": 59,
   "metadata": {},
   "outputs": [],
   "source": [
    "ratio = 0.1\n",
    "\n",
    "test = open(\"test.txt\",\"w\")\n",
    "train = open(\"train.txt\",\"w\")\n",
    "\n",
    "images = glob(os.path.join(\"/home/masum/Lab/Project/Student/data/deepstd/frame\",\"*.jpg\"))\n",
    "\n",
    "total = len(images)\n",
    "\n",
    "testClass = np.random.choice(range(total), int(ratio*total), replace=False)\n",
    "\n",
    "for idx in range(total):\n",
    "    if idx in testClass:\n",
    "        test.write(images[idx]+\"\\n\")\n",
    "    else:\n",
    "        train.write(images[idx]+\"\\n\")\n",
    "    \n",
    "\n",
    "test.close()\n",
    "train.close()"
   ]
  },
  {
   "cell_type": "code",
   "execution_count": null,
   "metadata": {},
   "outputs": [],
   "source": []
  }
 ],
 "metadata": {
  "kernelspec": {
   "display_name": "Python 3",
   "language": "python",
   "name": "python3"
  },
  "language_info": {
   "codemirror_mode": {
    "name": "ipython",
    "version": 3
   },
   "file_extension": ".py",
   "mimetype": "text/x-python",
   "name": "python",
   "nbconvert_exporter": "python",
   "pygments_lexer": "ipython3",
   "version": "3.8.5"
  }
 },
 "nbformat": 4,
 "nbformat_minor": 4
}
